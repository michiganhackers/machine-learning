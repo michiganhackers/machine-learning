{
 "cells": [
  {
   "cell_type": "code",
   "execution_count": 12,
   "metadata": {
    "id": "QOr4Uzw6KW_P"
   },
   "outputs": [],
   "source": [
    "# Michigan Hackers Machine Learning Team\n",
    "# Project: Simple Linear Regression of yoe:sal.csv\n",
    "# Description: Find linear relationship between years of experience vs salary\n",
    "# Author: Dhanya Narayanan\n",
    "# Date: October 11th 2020"
   ]
  },
  {
   "cell_type": "code",
   "execution_count": 13,
   "metadata": {
    "id": "o_57Yw7BKW_U"
   },
   "outputs": [],
   "source": [
    "# Import Libraries\n",
    "import matplotlib.pyplot as plt\n",
    "import numpy as np\n",
    "import pandas as pd"
   ]
  },
  {
   "cell_type": "code",
   "execution_count": 14,
   "metadata": {},
   "outputs": [],
   "source": [
    "# Map X to a power+1 dimension such that x --> [1, x, x^2, x^3, ..., x^power]\n",
    "def poly_dim(X, power=1):\n",
    "    Phi = np.array([[x ** p for p in range(power + 1)] for x in X])   \n",
    "    return Phi"
   ]
  },
  {
   "cell_type": "code",
   "execution_count": 15,
   "metadata": {},
   "outputs": [],
   "source": [
    "# Return mean squared error (MSE) between predicted and true y values\n",
    "def MSE(X, theta, Y):\n",
    "    return np.sum(Y - np.dot(X, theta)) ** 2 / len(X)"
   ]
  },
  {
   "cell_type": "code",
   "execution_count": 32,
   "metadata": {
    "id": "4iYu12UQKW_Z"
   },
   "outputs": [],
   "source": [
    "# Implement Gradient Descent\n",
    "# GD(X values, Y values, learning rate, epochs = max iterations)\n",
    "# Outputs coefficients for the equation of the hyperplane (theta)\n",
    "def GD(X, Y, L, epochs):  # X is Phi\n",
    "    theta = np.zeros(X.shape[1]) # equivalent to m = 0 and b = 0, but for any number of dimensions\n",
    "    n = len(X) # number of datapoints\n",
    "    for i in range(epochs):\n",
    "        Y_pred = np.dot(X, theta)  # equivalent to m*X + b\n",
    "        Y_delta = Y - Y_pred  # difference between predicted and true y values\n",
    "        gradient = 2*np.dot(Y_delta, X)/n # change in slope according to cost function (MSE)   \n",
    "        theta += L*gradient # equivalent to m = m + L*m_delta and b = b + L*b_delta together\n",
    "    return theta # equivalent to return m, b "
   ]
  },
  {
   "cell_type": "code",
   "execution_count": 38,
   "metadata": {
    "id": "PBVokhCoKW_X"
   },
   "outputs": [
    {
     "name": "stdout",
     "output_type": "stream",
     "text": [
      "161703.37455518666\n"
     ]
    }
   ],
   "source": [
    "dataset = pd.read_csv(\"yoe_sal.csv\") # Import Dataset\n",
    "X = np.array(dataset[\"YearsExperience\"])\n",
    "Y = np.array(dataset[\"Salary\"])\n",
    "\n",
    "Phi = poly_dim(X) # map X to include y-intercept \n",
    "theta = GD(Phi, Y, 10**-4, 10**5)\n",
    "print(MSE(Phi, theta, Y))"
   ]
  },
  {
   "cell_type": "code",
   "execution_count": 39,
   "metadata": {
    "id": "mIXYo01wKW_c"
   },
   "outputs": [
    {
     "data": {
      "text/plain": [
       "[<matplotlib.lines.Line2D at 0x7fd369077310>]"
      ]
     },
     "execution_count": 39,
     "metadata": {},
     "output_type": "execute_result"
    },
    {
     "data": {
      "image/png": "[encoded data removed]",
      "text/plain": [
       "<Figure size 432x288 with 1 Axes>"
      ]
     },
     "metadata": {
      "needs_background": "light"
     },
     "output_type": "display_data"
    }
   ],
   "source": [
    "# Plot Data\n",
    "plt.scatter(X, Y, color=\"teal\")\n",
    "plt.plot(X, np.dot(Phi, theta), color=\"magenta\")\n",
    "m_np, b_np = np.polyfit(X, Y, 1)\n",
    "plt.plot(X, m_np*X+b_np, color=\"blue\")\n"
   ]
  },
  {
   "cell_type": "code",
   "execution_count": null,
   "metadata": {
    "id": "fwRuUcd0KW_f"
   },
   "outputs": [],
   "source": [
    "  "
   ]
  },
  {
   "cell_type": "code",
   "execution_count": null,
   "metadata": {},
   "outputs": [],
   "source": []
  },
  {
   "cell_type": "code",
   "execution_count": null,
   "metadata": {},
   "outputs": [],
   "source": []
  }
 ],
 "metadata": {
  "colab": {
   "name": "SLR_GD.ipynb",
   "provenance": []
  },
  "kernelspec": {
   "display_name": "Python 3",
   "language": "python",
   "name": "python3"
  },
  "language_info": {
   "codemirror_mode": {
    "name": "ipython",
    "version": 3
   },
   "file_extension": ".py",
   "mimetype": "text/x-python",
   "name": "python",
   "nbconvert_exporter": "python",
   "pygments_lexer": "ipython3",
   "version": "3.7.4"
  }
 },
 "nbformat": 4,
 "nbformat_minor": 1
}
