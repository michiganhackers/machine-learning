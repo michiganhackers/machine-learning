{
 "cells": [
  {
   "cell_type": "code",
   "execution_count": 3,
   "metadata": {},
   "outputs": [
    {
     "data": {
      "image/png": "[encoded data removed]",
      "text/plain": [
       "<Figure size 432x288 with 1 Axes>"
      ]
     },
     "metadata": {
      "needs_background": "light"
     },
     "output_type": "display_data"
    }
   ],
   "source": [
    "import matplotlib.pyplot as plt\n",
    "import numpy as np\n",
    "import pandas as pd\n",
    "\n",
    "def poly_dim(X, power = 1):\n",
    "    Phi = np.array([[x ** p for p in range(power + 1)] for x in X])\n",
    "    return Phi\n",
    "\n",
    "def MSE(X, theta, Y):\n",
    "    return np.sum(Y - np.dot(X, theta)) ** 2 / len(X)\n",
    "\n",
    "def GD(X, Y, L, epochs):\n",
    "    theta = np.zeros(X.shape[1])\n",
    "    n = len(X)\n",
    "    for i in range(epochs):\n",
    "        Y_pred = np.dot(X, theta)\n",
    "        Y_delta = Y - Y_pred\n",
    "        gradient = 2 * np.dot(Y_delta, X) / n\n",
    "        theta += L * gradient\n",
    "    return theta\n",
    "\n",
    "dataset = pd.read_csv('yoe_sal.csv')\n",
    "X = np.array(dataset['YearsExperience'])\n",
    "Y = np.array(dataset['Salary'])\n",
    "Phi = poly_dim(X)\n",
    "theta = GD(Phi, Y, 10 ** -10, 10 ** 5)\n",
    "\n",
    "plt.scatter(X, Y, color = \"red\")\n",
    "plt.plot(X, np.dot(Phi, theta), color = \"blue\")\n",
    "m_np, b_np = np.polyfit(X, Y, 1)\n",
    "plt.plot(X, m_np * X + b_np, color = \"green\")\n",
    "plt.show()"
   ]
  },
  {
   "cell_type": "code",
   "execution_count": null,
   "metadata": {},
   "outputs": [],
   "source": []
  }
 ],
 "metadata": {
  "kernelspec": {
   "display_name": "Python 3",
   "language": "python",
   "name": "python3"
  },
  "language_info": {
   "codemirror_mode": {
    "name": "ipython",
    "version": 3
   },
   "file_extension": ".py",
   "mimetype": "text/x-python",
   "name": "python",
   "nbconvert_exporter": "python",
   "pygments_lexer": "ipython3",
   "version": "3.8.3"
  }
 },
 "nbformat": 4,
 "nbformat_minor": 4
}
