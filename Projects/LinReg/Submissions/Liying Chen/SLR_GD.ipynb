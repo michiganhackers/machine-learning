{
 "cells": [
  {
   "cell_type": "code",
   "execution_count": 1,
   "metadata": {
    "id": "QOr4Uzw6KW_P"
   },
   "outputs": [],
   "source": [
    "# Michigan Hackers Machine Learning Team\n",
    "# Project: Simple Linear Regression of yoe:sal.csv\n",
    "# Description: Find linear relationship between years of experience vs salary\n",
    "# Author: Liying Chen\n",
    "# Date: October 9th 2020"
   ]
  },
  {
   "cell_type": "code",
   "execution_count": 2,
   "metadata": {
    "id": "o_57Yw7BKW_U"
   },
   "outputs": [],
   "source": [
    "# Import Libraries\n",
    "import matplotlib.pyplot as plt\n",
    "import numpy as np\n",
    "import pandas as pd"
   ]
  },
  {
   "cell_type": "code",
   "execution_count": 3,
   "metadata": {
    "id": "PBVokhCoKW_X"
   },
   "outputs": [],
   "source": [
    "# Import Dataset\n",
    "dataset = pd.read_csv('yoe:sal.csv')\n",
    "X = np.array(dataset['YearsExperience'])\n",
    "Y = np.array(dataset['Salary'])"
   ]
  },
  {
   "cell_type": "code",
   "execution_count": 4,
   "metadata": {
    "id": "PBVokhCoKW_X"
   },
   "outputs": [],
   "source": [
    "# Helper Functions\n",
    "#maps X to a power+1 dimension such that x => [1 x x^2 x^3 ... x^power]\n",
    "def poly_dim(X, power=1):\n",
    "    Phi = np.array([[x ** p for p in range(power + 1)] for x in X])\n",
    "    return Phi\n",
    "\n",
    "#returns mean squared error between predicted and true y-values\n",
    "def MSE(X, theta, Y):\n",
    "    return np.sum((Y - np.dot(X, theta))**2) / len(X)"
   ]
  },
  {
   "cell_type": "code",
   "execution_count": 5,
   "metadata": {
    "id": "4iYu12UQKW_Z"
   },
   "outputs": [],
   "source": [
    "# Implement Gradient Descent\n",
    "#GD(X values, Y vlaues, learning rate, epochs)\n",
    "def GD(X, Y, L, epochs):\n",
    "    theta = np.zeros(X.shape[1])\n",
    "    n = len(X)\n",
    "    for i in range(epochs):\n",
    "        Y_pred = np.dot(X, theta)\n",
    "        Y_delta = Y - Y_pred\n",
    "        gradient = 2 * np.dot(Y_delta, X) / n\n",
    "        theta += L*gradient\n",
    "    return theta"
   ]
  },
  {
   "cell_type": "code",
   "execution_count": 6,
   "metadata": {},
   "outputs": [],
   "source": [
    "# main function\n",
    "Phi = poly_dim(X)\n",
    "theta = GD(Phi, Y, 10**-4, 10**5)\n",
    "#print(MSE(Phi, theta, Y))"
   ]
  },
  {
   "cell_type": "code",
   "execution_count": 7,
   "metadata": {
    "id": "mIXYo01wKW_c"
   },
   "outputs": [
    {
     "data": {
      "image/png": "[encoded data removed]",
      "text/plain": [
       "<Figure size 432x288 with 1 Axes>"
      ]
     },
     "metadata": {
      "needs_background": "light"
     },
     "output_type": "display_data"
    }
   ],
   "source": [
    "# Plot Data\n",
    "plt.scatter(X, Y, color='teal')\n",
    "plt.plot(X, np.dot(Phi, theta), color='magenta')\n",
    "#m_np, b_np = np.polyfit(X, Y, 1)\n",
    "#plt.plot(X, m_np*X+b_np, color='blue')\n",
    "plt.show()"
   ]
  },
  {
   "cell_type": "code",
   "execution_count": null,
   "metadata": {
    "id": "fwRuUcd0KW_f"
   },
   "outputs": [],
   "source": []
  }
 ],
 "metadata": {
  "colab": {
   "name": "SLR_GD.ipynb",
   "provenance": []
  },
  "kernelspec": {
   "display_name": "Python 3",
   "language": "python",
   "name": "python3"
  },
  "language_info": {
   "codemirror_mode": {
    "name": "ipython",
    "version": 3
   },
   "file_extension": ".py",
   "mimetype": "text/x-python",
   "name": "python",
   "nbconvert_exporter": "python",
   "pygments_lexer": "ipython3",
   "version": "3.8.3"
  }
 },
 "nbformat": 4,
 "nbformat_minor": 1
}
