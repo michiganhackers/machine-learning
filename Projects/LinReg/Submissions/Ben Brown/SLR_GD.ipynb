{
 "cells": [
  {
   "cell_type": "code",
   "execution_count": 4,
   "metadata": {
    "id": "QOr4Uzw6KW_P"
   },
   "outputs": [],
   "source": [
    "# Michigan Hackers Machine Learning Team\n",
    "# Project: Simple Linear Regression of yoe:sal.csv\n",
    "# Description: Find linear relationship between years of experience vs salary\n",
    "# Author: Ben Brown\n",
    "# Date: 10/13/2020"
   ]
  },
  {
   "cell_type": "code",
   "execution_count": 5,
   "metadata": {
    "id": "o_57Yw7BKW_U"
   },
   "outputs": [],
   "source": [
    "# Import Libraries\n",
    "import matplotlib.pyplot as plt\n",
    "import numpy as np\n",
    "import pandas as pd"
   ]
  },
  {
   "cell_type": "code",
   "execution_count": 6,
   "metadata": {
    "id": "PBVokhCoKW_X"
   },
   "outputs": [],
   "source": [
    "# Import Dataset\n",
    "dataset = pd.read_csv(r'C:\\Users\\kenob\\OneDrive\\Documents\\Michigan Hackers\\Machine Learning\\Project 1 - SimpleLinearRegression\\yoe_sal.csv')\n"
   ]
  },
  {
   "cell_type": "code",
   "execution_count": 16,
   "metadata": {
    "id": "4iYu12UQKW_Z"
   },
   "outputs": [
    {
     "name": "stdout",
     "output_type": "stream",
     "text": [
      "161703.37455518666\n",
      "[ 35896.72744375  37797.02120185  39697.31495996  44448.04935523\n",
      "  46348.34311334  52999.37126672  53949.51814577  55849.81190388\n",
      "  55849.81190388  60600.54629915  62500.84005726  63450.98693631\n",
      "  63450.98693631  64401.13381537  68201.72133158  72002.3088478\n",
      "  73902.60260591  75802.89636402  81503.77763834  82453.9245174\n",
      "  90055.09954983  92905.54018699 100506.71521942 103357.15585659\n",
      " 108107.89025186 110958.33088902 115709.06528429 116659.21216334\n",
      " 123310.24031672 125210.53407483]\n"
     ]
    }
   ],
   "source": [
    "# Implement Gradient Descent\n",
    "#GD(X values, Y vlaues, learning rate, epochs)\n",
    "def GD(X,Y,L,epochs):\n",
    "    theta = np.zeros(X.shape[1])\n",
    "    n = len(X)\n",
    "    for i in range(epochs):\n",
    "        Y_pred = np.dot(X, theta)\n",
    "        Y_delta = Y-Y_pred\n",
    "        gradient = 2 * np.dot(Y_delta, X)/n\n",
    "        theta += L * gradient\n",
    "    return theta\n",
    "\n",
    "def poly_dim(X, power = 1):\n",
    "    Phi = np.array([[x ** p for p in range (power + 1)] for x in X])\n",
    "    return Phi\n",
    "\n",
    "def MSE(X, theta, Y):\n",
    "    return np.sum(Y-np.dot(X, theta))**2 / len(X)\n",
    "\n",
    "\n",
    "X = np.array(dataset['YearsExperience'])\n",
    "Y = np.array(dataset['Salary'])\n",
    "Phi = poly_dim(X)\n",
    "theta = GD(Phi, Y, 10**-4, 10**5)\n",
    "print(MSE(Phi, theta, Y))\n",
    "print (np.dot(Phi, theta))"
   ]
  },
  {
   "cell_type": "code",
   "execution_count": 17,
   "metadata": {
    "id": "mIXYo01wKW_c"
   },
   "outputs": [
    {
     "data": {
      "image/png": "[encoded data removed]",
      "text/plain": [
       "<Figure size 432x288 with 1 Axes>"
      ]
     },
     "metadata": {
      "needs_background": "light"
     },
     "output_type": "display_data"
    }
   ],
   "source": [
    "# Plot Data\n",
    "plt.scatter(X, Y, color='green')\n",
    "plt.plot(X, np.dot(Phi, theta), color = 'red')\n",
    "m_np, b_np = np.polyfit(X,Y,1)\n",
    "plt.plot(X, m_np*X +b_np, color = 'blue')\n",
    "plt.show()"
   ]
  },
  {
   "cell_type": "code",
   "execution_count": null,
   "metadata": {
    "id": "fwRuUcd0KW_f"
   },
   "outputs": [],
   "source": [
    "  "
   ]
  },
  {
   "cell_type": "code",
   "execution_count": null,
   "metadata": {},
   "outputs": [],
   "source": []
  }
 ],
 "metadata": {
  "colab": {
   "name": "SLR_GD.ipynb",
   "provenance": []
  },
  "kernelspec": {
   "display_name": "Python 3",
   "language": "python",
   "name": "python3"
  },
  "language_info": {
   "codemirror_mode": {
    "name": "ipython",
    "version": 3
   },
   "file_extension": ".py",
   "mimetype": "text/x-python",
   "name": "python",
   "nbconvert_exporter": "python",
   "pygments_lexer": "ipython3",
   "version": "3.8.3"
  }
 },
 "nbformat": 4,
 "nbformat_minor": 1
}
