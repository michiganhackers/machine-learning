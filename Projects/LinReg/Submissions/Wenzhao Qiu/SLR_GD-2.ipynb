{
 "cells": [
  {
   "cell_type": "code",
   "execution_count": 1,
   "metadata": {},
   "outputs": [],
   "source": [
    "# Michigan Hackers Machine Learning Team\n",
    "# Project: Simple Linear Regression of yoe:sal.csv\n",
    "# Description: Find linear relationship between years of experience vs salary\n",
    "# Author: Wenzhao Qiu\n",
    "# Date: 10/08/20"
   ]
  },
  {
   "cell_type": "code",
   "execution_count": 2,
   "metadata": {},
   "outputs": [],
   "source": [
    "# Import Libraries\n",
    "import matplotlib.pyplot as plt\n",
    "import numpy as np\n",
    "import pandas as pd"
   ]
  },
  {
   "cell_type": "code",
   "execution_count": 3,
   "metadata": {},
   "outputs": [],
   "source": [
    "# Import Dataset\n",
    "ds = pd.read_csv('yoe sal.csv')\n",
    "X = np.array(ds['YearsExperience'])\n",
    "Y = np.array(ds['Salary'])"
   ]
  },
  {
   "cell_type": "code",
   "execution_count": 4,
   "metadata": {},
   "outputs": [],
   "source": [
    "#helper functions\n",
    "#so... I get what poly_dim does, but I'm not quite sure how the code in the method does it\n",
    "#actually how does a for loop inside an array even work\n",
    "def poly_dim(X, power=1):\n",
    "    Phi = np.array([[x**p for p in range(power+1)] for x in X])\n",
    "    return Phi"
   ]
  },
  {
   "cell_type": "code",
   "execution_count": 5,
   "metadata": {},
   "outputs": [],
   "source": [
    "def MSE(X, theta, Y): #is this really needed in the code tho\n",
    "    return np.sum(Y-np.dot(X, theta))**2/len(X)"
   ]
  },
  {
   "cell_type": "code",
   "execution_count": 6,
   "metadata": {},
   "outputs": [],
   "source": [
    "# Implement Gradient Descent\n",
    "#GD(X values, Y vlaues, learning rate, epochs)\n",
    "def GD(X, Y, L, epochs):\n",
    "    theta = np.zeros(X.shape[1])\n",
    "    n = len(X)\n",
    "    for i in range(epochs):\n",
    "        Y_pred = np.dot(X, theta)\n",
    "        Y_delta = Y - Y_pred\n",
    "        gradient = 2*np.dot(Y_delta, X)/n\n",
    "        theta += L*gradient\n",
    "    return theta"
   ]
  },
  {
   "cell_type": "code",
   "execution_count": 7,
   "metadata": {},
   "outputs": [],
   "source": [
    "#main function\n",
    "Phi = poly_dim(X)\n",
    "theta = GD(Phi, Y, 10**-4, 10**5)"
   ]
  },
  {
   "cell_type": "code",
   "execution_count": 8,
   "metadata": {},
   "outputs": [
    {
     "data": {
      "text/plain": [
       "[<matplotlib.lines.Line2D at 0x19aa0bada90>]"
      ]
     },
     "execution_count": 8,
     "metadata": {},
     "output_type": "execute_result"
    },
    {
     "data": {
      "image/png": "[encoded data removed]",
      "text/plain": [
       "<Figure size 432x288 with 1 Axes>"
      ]
     },
     "metadata": {
      "needs_background": "light"
     },
     "output_type": "display_data"
    }
   ],
   "source": [
    "# Plot Data\n",
    "plt.scatter(X, Y, color=\"black\")\n",
    "plt.plot(X, np.dot(Phi, theta), color=\"green\")\n",
    "m_ideal,b_ideal = np.polyfit(X,Y,1)\n",
    "plt.plot(X, m_ideal*X+b_ideal, color=\"red\")\n"
   ]
  }
 ],
 "metadata": {
  "kernelspec": {
   "display_name": "Python 3",
   "language": "python",
   "name": "python3"
  },
  "language_info": {
   "codemirror_mode": {
    "name": "ipython",
    "version": 3
   },
   "file_extension": ".py",
   "mimetype": "text/x-python",
   "name": "python",
   "nbconvert_exporter": "python",
   "pygments_lexer": "ipython3",
   "version": "3.8.3"
  }
 },
 "nbformat": 4,
 "nbformat_minor": 2
}
