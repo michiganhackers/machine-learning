{
 "cells": [
  {
   "cell_type": "code",
   "execution_count": null,
   "metadata": {
    "id": "QOr4Uzw6KW_P"
   },
   "outputs": [],
   "source": [
    "# Michigan Hackers Machine Learning Team\n",
    "# Project: Simple Linear Regression of yoe:sal.csv\n",
    "# Description: Find linear relationship between years of experience vs salary\n",
    "# Author: YOUR NAME\n",
    "# Date: DATE"
   ]
  },
  {
   "cell_type": "code",
   "execution_count": null,
   "metadata": {
    "id": "o_57Yw7BKW_U"
   },
   "outputs": [],
   "source": [
    "# Import Libraries\n",
    "import pandas as pd\n",
    "import numpy as np\n",
    "from matplotlib import pyplot as plt"
   ]
  },
  {
   "cell_type": "code",
   "execution_count": null,
   "metadata": {
    "id": "PBVokhCoKW_X"
   },
   "outputs": [],
   "source": [
    "# Import Dataset\n",
    "dataset = pd.read_csv('yoe_sal.csv')"
   ]
  },
  {
   "cell_type": "code",
   "execution_count": null,
   "metadata": {
    "id": "4iYu12UQKW_Z"
   },
   "outputs": [],
   "source": [
    "# Implement Gradient Descent\n",
    "#GD(X values, Y vlaues, learning rate, epochs)\n",
    "def poly_dim(X, power = 1):\n",
    "    poly_array = np.array([[x ** p for p in range(power + 1)] for x in X])\n",
    "    return poly_array\n",
    "\n",
    "\n",
    "def MSE(X, theta, Y):\n",
    "    return np.sum(Y - np.dot(X, theta)) ** 2 / len*(X)\n",
    "\n",
    "\n",
    "def GD(X, Y, L, epochs):\n",
    "    theta = np.zeros(X.shape[1]); # [y-intercept, slope] in linear regression\n",
    "    n = len(X);\n",
    "    for i in range(epochs):\n",
    "        Y_pred = np.dot(X, theta); # y_pred = (theta1) * (1) + (theta1) * (x_i value)\n",
    "        Y_delta = Y - Y_pred; # actual Y minus our predicted Y\n",
    "        gradient = 2*np.dot(Y_delta, X) / n # change in slope according to cost function (MSE)\n",
    "        theta += L * gradient \n",
    "#         print(theta)\n",
    "#         if(i == 99999): \n",
    "#             print(theta)\n",
    "    return theta;"
   ]
  },
  {
   "cell_type": "code",
   "execution_count": null,
   "metadata": {
    "id": "mIXYo01wKW_c"
   },
   "outputs": [],
   "source": [
    "# Plot Data"
   ]
  },
  {
   "cell_type": "code",
   "execution_count": null,
   "metadata": {
    "id": "fwRuUcd0KW_f"
   },
   "outputs": [],
   "source": [
    "X = np.array(dataset['YearsExperience'])\n",
    "Y = np.array(dataset['Salary'])\n",
    "poly_array = poly_dim(X)\n",
    "theta = GD(poly_array, Y, 10**-5, 10**5)\n",
    "print(theta)\n",
    "plt.scatter(X, Y, color='black') # create scatterplot with our existing data\n",
    "print(np.dot(poly_array, theta))\n",
    "plt.plot(X, np.dot(poly_array, theta), color='red') # linear regression line based on GD\n",
    "m_act, b_act = np.polyfit(X, Y, 1)\n",
    "plt.plot(X, m_act*X+b_act, color='blue')\n",
    "plt.show()"
   ]
  },
  {
   "cell_type": "code",
   "execution_count": null,
   "metadata": {},
   "outputs": [],
   "source": []
  }
 ],
 "metadata": {
  "colab": {
   "name": "SLR_GD.ipynb",
   "provenance": []
  },
  "kernelspec": {
   "display_name": "Python 3",
   "language": "python",
   "name": "python3"
  },
  "language_info": {
   "codemirror_mode": {
    "name": "ipython",
    "version": 3
   },
   "file_extension": ".py",
   "mimetype": "text/x-python",
   "name": "python",
   "nbconvert_exporter": "python",
   "pygments_lexer": "ipython3",
   "version": "3.8.3"
  }
 },
 "nbformat": 4,
 "nbformat_minor": 1
}
