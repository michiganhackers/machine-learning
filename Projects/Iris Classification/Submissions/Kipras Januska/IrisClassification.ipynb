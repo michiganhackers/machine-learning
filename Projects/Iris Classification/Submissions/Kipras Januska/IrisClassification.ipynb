{
 "cells": [
  {
   "cell_type": "code",
   "execution_count": 14,
   "metadata": {},
   "outputs": [
    {
     "data": {
      "image/png": "[encoded data removed]",
      "text/plain": [
       "<Figure size 432x288 with 1 Axes>"
      ]
     },
     "metadata": {
      "needs_background": "light"
     },
     "output_type": "display_data"
    },
    {
     "name": "stdout",
     "output_type": "stream",
     "text": [
      "['virginica' 'setosa' 'virginica' 'virginica' 'virginica' 'setosa'\n",
      " 'setosa' 'virginica' 'virginica' 'setosa' 'virginica' 'setosa' 'setosa'\n",
      " 'setosa' 'setosa' 'virginica' 'virginica' 'virginica' 'virginica'\n",
      " 'virginica' 'setosa' 'virginica' 'setosa' 'virginica' 'virginica'\n",
      " 'virginica' 'virginica' 'virginica' 'setosa' 'setosa' 'setosa' 'setosa'\n",
      " 'setosa' 'setosa' 'setosa' 'virginica' 'virginica' 'setosa' 'setosa'\n",
      " 'setosa' 'virginica' 'virginica' 'virginica' 'setosa' 'setosa' 'setosa'\n",
      " 'virginica' 'virginica' 'setosa' 'virginica' 'virginica' 'virginica'\n",
      " 'virginica' 'setosa' 'virginica' 'setosa' 'setosa' 'setosa' 'setosa'\n",
      " 'virginica' 'virginica' 'setosa' 'setosa' 'setosa' 'virginica' 'setosa'\n",
      " 'virginica' 'virginica' 'setosa' 'virginica' 'virginica' 'setosa'\n",
      " 'virginica' 'virginica' 'versicolor']\n",
      "\n",
      "              precision    recall  f1-score   support\n",
      "\n",
      "      setosa       0.83      1.00      0.91        29\n",
      "  versicolor       1.00      0.04      0.08        23\n",
      "   virginica       0.59      1.00      0.74        23\n",
      "\n",
      "    accuracy                           0.71        75\n",
      "   macro avg       0.81      0.68      0.58        75\n",
      "weighted avg       0.81      0.71      0.60        75\n",
      "\n",
      "0.7066666666666667\n"
     ]
    }
   ],
   "source": [
    "import matplotlib.pyplot as plt\n",
    "import seaborn as sns\n",
    "from sklearn.linear_model import LogisticRegression\n",
    "from sklearn.metrics import classification_report\n",
    "from sklearn.metrics import accuracy_score\n",
    "from sklearn.model_selection import train_test_split\n",
    "from sklearn.linear_model import SGDClassifier\n",
    "\n",
    "\n",
    "data = sns.load_dataset(\"iris\")\n",
    "data.head()\n",
    "\n",
    "# X = feature values, all the columns except the last column\n",
    "X = data.iloc[:, :-1]\n",
    "\n",
    "# y = target values, last column of the data frame\n",
    "y = data.iloc[:, -1]\n",
    "\n",
    "# create plot and add data points\n",
    "plt.xlabel('Features')\n",
    "plt.ylabel('Species')\n",
    "\n",
    "pltX = data.loc[:, 'sepal_length']\n",
    "pltY = data.loc[:,'species']\n",
    "plt.scatter(pltX, pltY, color='blue', label='sepal_length')\n",
    "\n",
    "pltX = data.loc[:, 'sepal_width']\n",
    "pltY = data.loc[:,'species']\n",
    "plt.scatter(pltX, pltY, color='green', label='sepal_width')\n",
    "\n",
    "pltX = data.loc[:, 'petal_length']\n",
    "pltY = data.loc[:,'species']\n",
    "plt.scatter(pltX, pltY, color='red', label='petal_length')\n",
    "\n",
    "pltX = data.loc[:, 'petal_width']\n",
    "pltY = data.loc[:,'species']\n",
    "plt.scatter(pltX, pltY, color='black', label='petal_width')\n",
    "\n",
    "plt.legend(loc=4, prop={'size':8})\n",
    "plt.show()\n",
    "\n",
    "# train and test using data, 50% train, 50% test\n",
    "x_train, x_test, y_train, y_test = train_test_split(X, y, test_size=0.5, random_state=42)\n",
    "\n",
    "# create a model\n",
    "model = SGDClassifier()\n",
    "# train the model using data\n",
    "model.fit(x_train, y_train)\n",
    "\n",
    "#Test the model\n",
    "predictions = model.predict(x_test)\n",
    "print(predictions)# printing predictions\n",
    "\n",
    "print()# Printing new line\n",
    "\n",
    "#Check precision, recall, f1-score\n",
    "print( classification_report(y_test, predictions) )\n",
    "\n",
    "print( accuracy_score(y_test, predictions))"
   ]
  },
  {
   "cell_type": "code",
   "execution_count": null,
   "metadata": {},
   "outputs": [],
   "source": []
  }
 ],
 "metadata": {
  "kernelspec": {
   "display_name": "Python 3",
   "language": "python",
   "name": "python3"
  },
  "language_info": {
   "codemirror_mode": {
    "name": "ipython",
    "version": 3
   },
   "file_extension": ".py",
   "mimetype": "text/x-python",
   "name": "python",
   "nbconvert_exporter": "python",
   "pygments_lexer": "ipython3",
   "version": "3.8.3"
  }
 },
 "nbformat": 4,
 "nbformat_minor": 4
}
