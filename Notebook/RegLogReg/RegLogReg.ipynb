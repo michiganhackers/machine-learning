{
 "cells": [
  {
   "cell_type": "code",
   "execution_count": 22,
   "metadata": {},
   "outputs": [],
   "source": [
    "# Michigan Hackers Machine Learning Team\n",
    "# Project: Classifcation \n",
    "# Description: Binary Classifcation using Logistic Regression\n",
    "# Author: Rajas Gupta\n",
    "# Date: October 1st 2020"
   ]
  },
  {
   "cell_type": "code",
   "execution_count": 23,
   "metadata": {},
   "outputs": [],
   "source": [
    "# Import Libraries\n",
    "import matplotlib.pyplot as plt\n",
    "import numpy as np\n",
    "import pandas as pd"
   ]
  },
  {
   "cell_type": "code",
   "execution_count": 24,
   "metadata": {},
   "outputs": [],
   "source": [
    "# maps X to a power+1 dimension such that x => [1, x]\n",
    "def offset(X):\n",
    "    Phi = np.array([[1, x[0], x[1]] for x in X])\n",
    "    return Phi"
   ]
  },
  {
   "cell_type": "code",
   "execution_count": 25,
   "metadata": {},
   "outputs": [],
   "source": [
    "# sigmoid/logistic function\n",
    "def sigmoid(z):\n",
    "    return 1.0 / (1 + np.exp(-z))"
   ]
  },
  {
   "cell_type": "code",
   "execution_count": 26,
   "metadata": {},
   "outputs": [],
   "source": [
    "# returns probabolity that label is 1\n",
    "def predict(X, theta):\n",
    "    z = np.array(np.dot(X, theta),dtype=np.float32)\n",
    "    return sigmoid(z)"
   ]
  },
  {
   "cell_type": "code",
   "execution_count": 27,
   "metadata": {},
   "outputs": [],
   "source": [
    "# returns logsitc cost between predicted and true labels\n",
    "def cost_function(X, theta, y, lamda):\n",
    "    n = len(X) # number of data points\n",
    "    y_pred = predict(X, theta) # Find predicted labels\n",
    "    cost_pos = -y * np.log(y_pred) # Error for positive class (y = 1)\n",
    "    cost_neg = -(1 - y) * np.log(1 - y_pred) # Error for negative class (y = 0)\n",
    "    cost = cost_pos + cost_neg # Sum costs os postive and negative class\n",
    "    cost = 1/n * cost.sum() # Take the average cost\n",
    "    cost += lamda/(2*n) * (theta**2).sum() # regularize\n",
    "    return cost"
   ]
  },
  {
   "cell_type": "code",
   "execution_count": 28,
   "metadata": {},
   "outputs": [],
   "source": [
    "# Gradient Descent Function\n",
    "# Inputs: empirical data (X and Y), learning rate (L), and max iterations (epochs)\n",
    "# Outputs: (coefficitents for the equation of the hyperplane) theta\n",
    "def GD(X,Y,L,epochs, lamda):\n",
    "    theta = np.zeros(X.shape[1]) # hyperplane coefficients\n",
    "    n = len(X) # number of datapoints\n",
    "    for i in range(epochs):\n",
    "        Y_pred = predict(X, theta) # y* values\n",
    "        Y_delta = Y_pred - Y # difference between predicted and true y values\n",
    "        gradient = 2*np.dot(Y_delta, X)/n + lamda*theta.sum()/n # according to regularized cost function\n",
    "        theta = theta - L*gradient # update slope with learning rate\n",
    "    return theta"
   ]
  },
  {
   "cell_type": "code",
   "execution_count": 38,
   "metadata": {},
   "outputs": [
    {
     "name": "stderr",
     "output_type": "stream",
     "text": [
      "<ipython-input-25-8ba521874efc>:3: RuntimeWarning: overflow encountered in exp\n",
      "  return 1.0 / (1 + np.exp(-z))\n"
     ]
    },
    {
     "name": "stdout",
     "output_type": "stream",
     "text": [
      "nan\n",
      "[-11307.17346015     88.22768177     87.58516973]\n"
     ]
    },
    {
     "name": "stderr",
     "output_type": "stream",
     "text": [
      "<ipython-input-27-c5cf0aaa427c>:5: RuntimeWarning: divide by zero encountered in log\n",
      "  cost_pos = -y * np.log(y_pred) # Error for positive class (y = 1)\n",
      "<ipython-input-27-c5cf0aaa427c>:5: RuntimeWarning: invalid value encountered in multiply\n",
      "  cost_pos = -y * np.log(y_pred) # Error for positive class (y = 1)\n",
      "<ipython-input-27-c5cf0aaa427c>:6: RuntimeWarning: divide by zero encountered in log\n",
      "  cost_neg = -(1 - y) * np.log(1 - y_pred) # Error for negative class (y = 0)\n",
      "<ipython-input-27-c5cf0aaa427c>:6: RuntimeWarning: invalid value encountered in multiply\n",
      "  cost_neg = -(1 - y) * np.log(1 - y_pred) # Error for negative class (y = 0)\n"
     ]
    }
   ],
   "source": [
    "dataset = pd.read_csv('exam.csv') # Import Dataset\n",
    "X = np.array(dataset[['Midterm', 'Final']], dtype=np.float32)\n",
    "y = np.array(dataset['Pass'])\n",
    "X = offset(X) # offset x to include constant parameter\n",
    "theta = GD(X,y,10**0,10**7, 10**-7)\n",
    "print(cost_function(X, theta, y, 10**-7))\n",
    "print(theta)"
   ]
  },
  {
   "cell_type": "code",
   "execution_count": 39,
   "metadata": {},
   "outputs": [
    {
     "data": {
      "text/plain": [
       "[<matplotlib.lines.Line2D at 0x7f855954e2b0>]"
      ]
     },
     "execution_count": 39,
     "metadata": {},
     "output_type": "execute_result"
    },
    {
     "data": {
      "image/png": "[encoded data removed]",
      "text/plain": [
       "<Figure size 432x288 with 1 Axes>"
      ]
     },
     "metadata": {
      "needs_background": "light"
     },
     "output_type": "display_data"
    }
   ],
   "source": [
    "plt.scatter(X[y == 0][:, 1], X[y == 0][:, 2], color='b', label='0')\n",
    "plt.scatter(X[y == 1][:, 1], X[y == 1][:, 2], color='r', label='1')\n",
    "plt.legend()\n",
    "x2 = (theta[0] + theta[1] * X[:, 1]) / (-1 * theta[2])\n",
    "plt.plot(X[:, 1], x2, c = 'magenta')"
   ]
  }
 ],
 "metadata": {
  "kernelspec": {
   "display_name": "Python 3",
   "language": "python",
   "name": "python3"
  },
  "language_info": {
   "codemirror_mode": {
    "name": "ipython",
    "version": 3
   },
   "file_extension": ".py",
   "mimetype": "text/x-python",
   "name": "python",
   "nbconvert_exporter": "python",
   "pygments_lexer": "ipython3",
   "version": "3.8.5"
  }
 },
 "nbformat": 4,
 "nbformat_minor": 4
}
